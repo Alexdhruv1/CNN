{
 "cells": [
  {
   "cell_type": "code",
   "execution_count": 2,
   "id": "9da55155",
   "metadata": {},
   "outputs": [],
   "source": [
    "#13 Steps to build CNN\n",
    "\n",
    "#Step 1: Import the required packages\n",
    "\n",
    "from keras.models import Sequential\n",
    "from keras.layers import Conv2D\n",
    "from keras.layers import MaxPooling2D\n",
    "from keras.layers import Flatten\n",
    "from keras.layers import Dense\n",
    "\n",
    "# Step 2: Initialising the CNN\n",
    "model = Sequential()\n",
    "\n",
    "# Step 3: Convolution\n",
    "model.add(Conv2D(32, (3, 3), input_shape = (50, 50, 3), activation = 'relu'))\n",
    "\n",
    "# Step 4: Pooling\n",
    "model.add(MaxPooling2D(pool_size = (2, 2)))\n",
    "\n",
    "# Step 5: Second convolutional layer\n",
    "model.add(Conv2D(32, (3, 3), activation = 'relu'))\n",
    "model.add(MaxPooling2D(pool_size = (2, 2)))\n",
    "\n",
    "# Step 6: Flattening\n",
    "model.add(Flatten())\n",
    "\n",
    "# Step 7: Full connection\n",
    "model.add(Dense(units = 128, activation = 'relu'))\n",
    "model.add(Dense(units = 1, activation = 'sigmoid'))\n",
    "\n",
    "# Step 8: Compiling the CNN\n",
    "model.compile(optimizer = 'adam', loss = 'binary_crossentropy', metrics = ['accuracy'])"
   ]
  },
  {
   "cell_type": "code",
   "execution_count": 3,
   "id": "c7bb77cf",
   "metadata": {},
   "outputs": [],
   "source": [
    "# Step 9: ImageDataGenerator\n",
    "from keras.preprocessing.image import ImageDataGenerator\n",
    "\n",
    "train_datagen = ImageDataGenerator(rescale = 1./255,\n",
    "                                   shear_range = 0.2,\n",
    "                                   zoom_range = 0.2,\n",
    "                                   horizontal_flip = True)"
   ]
  },
  {
   "cell_type": "code",
   "execution_count": 4,
   "id": "738b37ad",
   "metadata": {},
   "outputs": [
    {
     "name": "stdout",
     "output_type": "stream",
     "text": [
      "Found 25000 images belonging to 1 classes.\n"
     ]
    }
   ],
   "source": [
    "# Step 10: Load the training Set\n",
    "training_set = train_datagen.flow_from_directory('C:\\\\Users\\\\dhruv saini\\\\Desktop\\\\CODING\\\\Cognitive Application\\\\MINOR2- Classification\\\\Dataset\\\\training_set',\n",
    "                                                 target_size = (50, 50),\n",
    "                                                 batch_size = 32,\n",
    "                                                 class_mode = 'binary')"
   ]
  },
  {
   "cell_type": "code",
   "execution_count": 9,
   "id": "eb37afc0",
   "metadata": {},
   "outputs": [
    {
     "name": "stdout",
     "output_type": "stream",
     "text": [
      "Epoch 1/25\n",
      "24/24 [==============================] - 5s 206ms/step - loss: 2.3919e-15 - accuracy: 1.0000\n",
      "Epoch 2/25\n",
      "24/24 [==============================] - 5s 201ms/step - loss: 1.2590e-14 - accuracy: 1.0000\n",
      "Epoch 3/25\n",
      "24/24 [==============================] - 5s 199ms/step - loss: 2.7305e-14 - accuracy: 1.0000\n",
      "Epoch 4/25\n",
      "24/24 [==============================] - 5s 199ms/step - loss: 3.6435e-12 - accuracy: 1.0000\n",
      "Epoch 5/25\n",
      "24/24 [==============================] - 6s 228ms/step - loss: 8.9659e-15 - accuracy: 1.0000\n",
      "Epoch 6/25\n",
      "24/24 [==============================] - 5s 204ms/step - loss: 9.8829e-13 - accuracy: 1.0000\n",
      "Epoch 7/25\n",
      "24/24 [==============================] - 5s 213ms/step - loss: 9.5496e-16 - accuracy: 1.0000\n",
      "Epoch 8/25\n",
      "24/24 [==============================] - 5s 210ms/step - loss: 4.1427e-13 - accuracy: 1.0000\n",
      "Epoch 9/25\n",
      "24/24 [==============================] - 6s 240ms/step - loss: 4.5091e-14 - accuracy: 1.0000\n",
      "Epoch 10/25\n",
      "24/24 [==============================] - 6s 236ms/step - loss: 5.2094e-16 - accuracy: 1.0000\n",
      "Epoch 11/25\n",
      "24/24 [==============================] - 5s 222ms/step - loss: 4.0655e-13 - accuracy: 1.0000\n",
      "Epoch 12/25\n",
      "24/24 [==============================] - 5s 225ms/step - loss: 8.6055e-13 - accuracy: 1.0000\n",
      "Epoch 13/25\n",
      "24/24 [==============================] - 7s 283ms/step - loss: 2.5359e-14 - accuracy: 1.0000\n",
      "Epoch 14/25\n",
      "24/24 [==============================] - 6s 230ms/step - loss: 3.9016e-14 - accuracy: 1.0000\n",
      "Epoch 15/25\n",
      "24/24 [==============================] - 6s 252ms/step - loss: 1.1801e-16 - accuracy: 1.0000\n",
      "Epoch 16/25\n",
      "24/24 [==============================] - 5s 219ms/step - loss: 1.3105e-14 - accuracy: 1.0000\n",
      "Epoch 17/25\n",
      "24/24 [==============================] - 6s 244ms/step - loss: 1.2464e-13 - accuracy: 1.0000\n",
      "Epoch 18/25\n",
      "24/24 [==============================] - 6s 227ms/step - loss: 4.1856e-12 - accuracy: 1.0000\n",
      "Epoch 19/25\n",
      "24/24 [==============================] - 5s 217ms/step - loss: 4.1673e-11 - accuracy: 1.0000\n",
      "Epoch 20/25\n",
      "24/24 [==============================] - 6s 232ms/step - loss: 7.6018e-15 - accuracy: 1.0000\n",
      "Epoch 21/25\n",
      "24/24 [==============================] - 6s 227ms/step - loss: 1.3416e-11 - accuracy: 1.0000\n",
      "Epoch 22/25\n",
      "24/24 [==============================] - 6s 229ms/step - loss: 1.5596e-15 - accuracy: 1.0000\n",
      "Epoch 23/25\n",
      "24/24 [==============================] - 5s 215ms/step - loss: 8.2795e-15 - accuracy: 1.0000\n",
      "Epoch 24/25\n",
      "24/24 [==============================] - 6s 231ms/step - loss: 7.3507e-15 - accuracy: 1.0000\n",
      "Epoch 25/25\n",
      "24/24 [==============================] - 5s 201ms/step - loss: 4.8620e-14 - accuracy: 1.0000\n"
     ]
    },
    {
     "data": {
      "text/plain": [
       "<keras.callbacks.History at 0x29397ca1d30>"
      ]
     },
     "execution_count": 9,
     "metadata": {},
     "output_type": "execute_result"
    }
   ],
   "source": [
    "# Step 11: Classifier Training \n",
    "model.fit_generator(training_set,\n",
    "                         steps_per_epoch = len(training_set)//32,\n",
    "                         epochs = 25,\n",
    "                         validation_steps = len(training_set)//32)\n"
   ]
  },
  {
   "cell_type": "code",
   "execution_count": 10,
   "id": "ec64791a",
   "metadata": {},
   "outputs": [],
   "source": [
    "# Step 12: Convert the Model to json\n",
    "model_json = model.to_json()\n",
    "with open(\"./model.json\",\"w\") as json_file:\n",
    "  json_file.write(model_json)"
   ]
  },
  {
   "cell_type": "code",
   "execution_count": 11,
   "id": "9f3ea088",
   "metadata": {},
   "outputs": [
    {
     "name": "stdout",
     "output_type": "stream",
     "text": [
      "Classifier trained Successfully!\n"
     ]
    }
   ],
   "source": [
    "# Step 13: Save the weights in a seperate file\n",
    "model.save_weights(\"./model.h5\")\n",
    "\n",
    "print(\"Classifier trained Successfully!\")"
   ]
  },
  {
   "cell_type": "code",
   "execution_count": null,
   "id": "f8be51db",
   "metadata": {},
   "outputs": [],
   "source": []
  }
 ],
 "metadata": {
  "kernelspec": {
   "display_name": "Python 3 (ipykernel)",
   "language": "python",
   "name": "python3"
  },
  "language_info": {
   "codemirror_mode": {
    "name": "ipython",
    "version": 3
   },
   "file_extension": ".py",
   "mimetype": "text/x-python",
   "name": "python",
   "nbconvert_exporter": "python",
   "pygments_lexer": "ipython3",
   "version": "3.9.2"
  }
 },
 "nbformat": 4,
 "nbformat_minor": 5
}
